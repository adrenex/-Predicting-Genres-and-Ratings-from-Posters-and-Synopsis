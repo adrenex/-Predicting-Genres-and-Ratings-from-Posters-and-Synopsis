{
 "cells": [
  {
   "cell_type": "code",
   "execution_count": 1,
   "metadata": {},
   "outputs": [],
   "source": [
    "import keras\n",
    "from keras.models import Sequential\n",
    "from keras.layers import Dense, Dropout, Flatten\n",
    "from keras.layers import Conv2D, MaxPooling2D\n",
    "import keras.utils as image\n",
    "from keras.callbacks import EarlyStopping\n",
    "from keras.callbacks import ModelCheckpoint\n",
    "from keras.preprocessing.image import ImageDataGenerator\n",
    "import pandas as pd \n",
    "import numpy as np \n",
    "from tqdm import tqdm\n",
    "import matplotlib.pyplot as plt\n",
    "import cv2\n",
    "from keras import models\n",
    "from keras import layers\n",
    "from keras import optimizers\n",
    "from PIL import Image\n",
    "import sklearn\n",
    "from sklearn.model_selection import train_test_split\n",
    "from statistics import mean\n",
    "from keras.applications import VGG16\n",
    "import warnings\n",
    "warnings.filterwarnings('ignore')"
   ]
  },
  {
   "cell_type": "code",
   "execution_count": 2,
   "metadata": {},
   "outputs": [],
   "source": [
    "def arrange_data(df):\n",
    "    \n",
    "    image_data = []\n",
    "    img_paths = np.asarray(df.iloc[:, 0]) #First column is the image paths\n",
    "    \n",
    "    for i in tqdm(range(len(img_paths))):       \n",
    "        img = image.load_img(img_paths[i],target_size=(200,150,3))\n",
    "        img = image.img_to_array(img)\n",
    "        img = img/255\n",
    "        image_data.append(img)\n",
    "        \n",
    "    X = np.array(image_data)\n",
    "    Y = np.array(df.iloc[:,1:29])\n",
    "    \n",
    "    print(\"Shape of images:\", X.shape)\n",
    "    print(\"Shape of labels:\", Y.shape)\n",
    "    \n",
    "    return X, Y"
   ]
  },
  {
   "cell_type": "code",
   "execution_count": 3,
   "metadata": {},
   "outputs": [
    {
     "name": "stdout",
     "output_type": "stream",
     "text": [
      "Processing train..\n"
     ]
    },
    {
     "name": "stderr",
     "output_type": "stream",
     "text": [
      "100%|█████████████████████████████████████████████████████████████████████████████| 4838/4838 [00:19<00:00, 252.86it/s]\n"
     ]
    },
    {
     "name": "stdout",
     "output_type": "stream",
     "text": [
      "Shape of images: (4838, 200, 150, 3)\n",
      "Shape of labels: (4838, 28)\n",
      "Processing valid..\n"
     ]
    },
    {
     "name": "stderr",
     "output_type": "stream",
     "text": [
      "100%|█████████████████████████████████████████████████████████████████████████████| 1866/1866 [00:07<00:00, 262.46it/s]\n"
     ]
    },
    {
     "name": "stdout",
     "output_type": "stream",
     "text": [
      "Shape of images: (1866, 200, 150, 3)\n",
      "Shape of labels: (1866, 28)\n"
     ]
    }
   ],
   "source": [
    "print(\"Processing train..\")\n",
    "train_df = pd.read_csv(\"Data/Train.csv\", delimiter=\" \")\n",
    "X_train, Y_train = arrange_data (train_df)\n",
    "\n",
    "print(\"Processing valid..\")\n",
    "val_df = pd.read_csv(\"Data/Valid.csv\", delimiter=\" \")\n",
    "X_val, Y_val = arrange_data (val_df)"
   ]
  },
  {
   "cell_type": "code",
   "execution_count": 4,
   "metadata": {},
   "outputs": [
    {
     "name": "stdout",
     "output_type": "stream",
     "text": [
      "Model: \"sequential\"\n",
      "_________________________________________________________________\n",
      " Layer (type)                Output Shape              Param #   \n",
      "=================================================================\n",
      " conv2d (Conv2D)             (None, 196, 146, 16)      1216      \n",
      "                                                                 \n",
      " max_pooling2d (MaxPooling2D  (None, 98, 73, 16)       0         \n",
      " )                                                               \n",
      "                                                                 \n",
      " dropout (Dropout)           (None, 98, 73, 16)        0         \n",
      "                                                                 \n",
      " conv2d_1 (Conv2D)           (None, 94, 69, 32)        12832     \n",
      "                                                                 \n",
      " max_pooling2d_1 (MaxPooling  (None, 47, 34, 32)       0         \n",
      " 2D)                                                             \n",
      "                                                                 \n",
      " dropout_1 (Dropout)         (None, 47, 34, 32)        0         \n",
      "                                                                 \n",
      " conv2d_2 (Conv2D)           (None, 43, 30, 64)        51264     \n",
      "                                                                 \n",
      " max_pooling2d_2 (MaxPooling  (None, 21, 15, 64)       0         \n",
      " 2D)                                                             \n",
      "                                                                 \n",
      " dropout_2 (Dropout)         (None, 21, 15, 64)        0         \n",
      "                                                                 \n",
      " conv2d_3 (Conv2D)           (None, 17, 11, 64)        102464    \n",
      "                                                                 \n",
      " max_pooling2d_3 (MaxPooling  (None, 8, 5, 64)         0         \n",
      " 2D)                                                             \n",
      "                                                                 \n",
      " dropout_3 (Dropout)         (None, 8, 5, 64)          0         \n",
      "                                                                 \n",
      " flatten (Flatten)           (None, 2560)              0         \n",
      "                                                                 \n",
      " dense (Dense)               (None, 128)               327808    \n",
      "                                                                 \n",
      " dropout_4 (Dropout)         (None, 128)               0         \n",
      "                                                                 \n",
      " dense_1 (Dense)             (None, 64)                8256      \n",
      "                                                                 \n",
      " dropout_5 (Dropout)         (None, 64)                0         \n",
      "                                                                 \n",
      " dense_2 (Dense)             (None, 28)                1820      \n",
      "                                                                 \n",
      "=================================================================\n",
      "Total params: 505,660\n",
      "Trainable params: 505,660\n",
      "Non-trainable params: 0\n",
      "_________________________________________________________________\n"
     ]
    }
   ],
   "source": [
    "num_classes = 28  \n",
    "\n",
    "model = Sequential()\n",
    "model.add(Conv2D(filters=16, kernel_size=(5, 5), activation=\"relu\", input_shape=(200,150,3)))\n",
    "model.add(MaxPooling2D(pool_size=(2, 2)))\n",
    "model.add(Dropout(0.25))\n",
    "model.add(Conv2D(filters=32, kernel_size=(5, 5), activation='relu'))\n",
    "model.add(MaxPooling2D(pool_size=(2, 2)))\n",
    "model.add(Dropout(0.25))\n",
    "model.add(Conv2D(filters=64, kernel_size=(5, 5), activation=\"relu\"))\n",
    "model.add(MaxPooling2D(pool_size=(2, 2)))\n",
    "model.add(Dropout(0.25))\n",
    "model.add(Conv2D(filters=64, kernel_size=(5, 5), activation='relu'))\n",
    "model.add(MaxPooling2D(pool_size=(2, 2)))\n",
    "model.add(Dropout(0.25))\n",
    "model.add(Flatten())\n",
    "model.add(Dense(128, activation='relu'))\n",
    "model.add(Dropout(0.5))\n",
    "model.add(Dense(64, activation='relu'))\n",
    "model.add(Dropout(0.5))\n",
    "model.add(Dense(num_classes, activation='sigmoid'))\n",
    "model.summary()"
   ]
  },
  {
   "cell_type": "code",
   "execution_count": 5,
   "metadata": {},
   "outputs": [
    {
     "name": "stdout",
     "output_type": "stream",
     "text": [
      "Epoch 1/30\n",
      "76/76 [==============================] - 107s 1s/step - loss: 0.4057 - accuracy: 0.1186 - val_loss: 0.2539 - val_accuracy: 0.2090\n",
      "Epoch 2/30\n",
      "76/76 [==============================] - 105s 1s/step - loss: 0.2758 - accuracy: 0.1895 - val_loss: 0.2354 - val_accuracy: 0.2090\n",
      "Epoch 3/30\n",
      "76/76 [==============================] - 108s 1s/step - loss: 0.2564 - accuracy: 0.1904 - val_loss: 0.2306 - val_accuracy: 0.2090\n",
      "Epoch 4/30\n",
      "76/76 [==============================] - 111s 1s/step - loss: 0.2483 - accuracy: 0.2024 - val_loss: 0.2307 - val_accuracy: 0.2090\n",
      "Epoch 5/30\n",
      "76/76 [==============================] - 110s 1s/step - loss: 0.2445 - accuracy: 0.1966 - val_loss: 0.2295 - val_accuracy: 0.2090\n",
      "Epoch 6/30\n",
      "76/76 [==============================] - 110s 1s/step - loss: 0.2414 - accuracy: 0.1955 - val_loss: 0.2301 - val_accuracy: 0.2090\n",
      "Epoch 7/30\n",
      "76/76 [==============================] - 112s 1s/step - loss: 0.2399 - accuracy: 0.1955 - val_loss: 0.2298 - val_accuracy: 0.2090\n",
      "Epoch 8/30\n",
      "76/76 [==============================] - 109s 1s/step - loss: 0.2379 - accuracy: 0.1957 - val_loss: 0.2288 - val_accuracy: 0.2090\n",
      "Epoch 9/30\n",
      "76/76 [==============================] - 104s 1s/step - loss: 0.2368 - accuracy: 0.1951 - val_loss: 0.2288 - val_accuracy: 0.2090\n",
      "Epoch 10/30\n",
      "76/76 [==============================] - 115s 2s/step - loss: 0.2360 - accuracy: 0.1947 - val_loss: 0.2288 - val_accuracy: 0.2090\n",
      "Epoch 11/30\n",
      "76/76 [==============================] - 114s 1s/step - loss: 0.2359 - accuracy: 0.1949 - val_loss: 0.2287 - val_accuracy: 0.2090\n",
      "Epoch 12/30\n",
      "76/76 [==============================] - 112s 1s/step - loss: 0.2352 - accuracy: 0.1949 - val_loss: 0.2288 - val_accuracy: 0.2090\n",
      "Epoch 13/30\n",
      "76/76 [==============================] - 110s 1s/step - loss: 0.2343 - accuracy: 0.1949 - val_loss: 0.2287 - val_accuracy: 0.2090\n",
      "Epoch 14/30\n",
      "76/76 [==============================] - 110s 1s/step - loss: 0.2338 - accuracy: 0.1949 - val_loss: 0.2287 - val_accuracy: 0.2090\n",
      "Epoch 15/30\n",
      "76/76 [==============================] - 107s 1s/step - loss: 0.2341 - accuracy: 0.1949 - val_loss: 0.2287 - val_accuracy: 0.2090\n",
      "Epoch 16/30\n",
      "76/76 [==============================] - 106s 1s/step - loss: 0.2338 - accuracy: 0.1949 - val_loss: 0.2286 - val_accuracy: 0.2090\n",
      "Epoch 17/30\n",
      "76/76 [==============================] - 111s 1s/step - loss: 0.2329 - accuracy: 0.1949 - val_loss: 0.2290 - val_accuracy: 0.2090\n",
      "Epoch 18/30\n",
      "76/76 [==============================] - 115s 2s/step - loss: 0.2325 - accuracy: 0.1949 - val_loss: 0.2288 - val_accuracy: 0.2090\n",
      "Epoch 19/30\n",
      "76/76 [==============================] - 112s 1s/step - loss: 0.2329 - accuracy: 0.1949 - val_loss: 0.2286 - val_accuracy: 0.2090\n",
      "Epoch 20/30\n",
      "76/76 [==============================] - 118s 2s/step - loss: 0.2321 - accuracy: 0.1949 - val_loss: 0.2287 - val_accuracy: 0.2090\n",
      "Epoch 21/30\n",
      "76/76 [==============================] - 134s 2s/step - loss: 0.2320 - accuracy: 0.1949 - val_loss: 0.2286 - val_accuracy: 0.2090\n",
      "Epoch 22/30\n",
      "76/76 [==============================] - 141s 2s/step - loss: 0.2321 - accuracy: 0.1949 - val_loss: 0.2286 - val_accuracy: 0.2090\n",
      "Epoch 23/30\n",
      "76/76 [==============================] - 139s 2s/step - loss: 0.2318 - accuracy: 0.1949 - val_loss: 0.2287 - val_accuracy: 0.2090\n",
      "Epoch 24/30\n",
      "76/76 [==============================] - 166s 2s/step - loss: 0.2320 - accuracy: 0.1949 - val_loss: 0.2286 - val_accuracy: 0.2090\n",
      "Epoch 25/30\n",
      "76/76 [==============================] - 170s 2s/step - loss: 0.2313 - accuracy: 0.1949 - val_loss: 0.2286 - val_accuracy: 0.2090\n",
      "Epoch 26/30\n",
      "76/76 [==============================] - 168s 2s/step - loss: 0.2314 - accuracy: 0.1949 - val_loss: 0.2286 - val_accuracy: 0.2090\n",
      "Epoch 27/30\n",
      "76/76 [==============================] - 169s 2s/step - loss: 0.2309 - accuracy: 0.1949 - val_loss: 0.2288 - val_accuracy: 0.2090\n",
      "Epoch 28/30\n",
      "76/76 [==============================] - 169s 2s/step - loss: 0.2307 - accuracy: 0.1949 - val_loss: 0.2287 - val_accuracy: 0.2090\n",
      "Epoch 29/30\n",
      "76/76 [==============================] - 166s 2s/step - loss: 0.2312 - accuracy: 0.1949 - val_loss: 0.2287 - val_accuracy: 0.2090\n",
      "Epoch 30/30\n",
      "76/76 [==============================] - 164s 2s/step - loss: 0.2312 - accuracy: 0.1949 - val_loss: 0.2286 - val_accuracy: 0.2090\n"
     ]
    }
   ],
   "source": [
    "model.compile(optimizer='adam', loss='binary_crossentropy', metrics=['accuracy'])\n",
    "history = model.fit(X_train, Y_train, epochs=30, validation_data=(X_val, Y_val), batch_size=64)\n",
    "model.save('Models/Model_6c.h5')"
   ]
  },
  {
   "cell_type": "code",
   "execution_count": 4,
   "metadata": {},
   "outputs": [
    {
     "name": "stdout",
     "output_type": "stream",
     "text": [
      "Model: \"sequential\"\n",
      "_________________________________________________________________\n",
      " Layer (type)                Output Shape              Param #   \n",
      "=================================================================\n",
      " vgg16 (Functional)          (None, 6, 4, 512)         14714688  \n",
      "                                                                 \n",
      " flatten (Flatten)           (None, 12288)             0         \n",
      "                                                                 \n",
      " dense (Dense)               (None, 1024)              12583936  \n",
      "                                                                 \n",
      " dropout (Dropout)           (None, 1024)              0         \n",
      "                                                                 \n",
      " dense_1 (Dense)             (None, 28)                28700     \n",
      "                                                                 \n",
      "=================================================================\n",
      "Total params: 27,327,324\n",
      "Trainable params: 19,692,060\n",
      "Non-trainable params: 7,635,264\n",
      "_________________________________________________________________\n"
     ]
    }
   ],
   "source": [
    "num_classes = 28  # Types of Genres\n",
    "vgg_conv = VGG16(weights='imagenet', include_top=False, input_shape=(200,150, 3))\n",
    "for layer in vgg_conv.layers[:-4]:\n",
    "    layer.trainable = False\n",
    "    \n",
    "model = models.Sequential()\n",
    "model.add(vgg_conv)\n",
    "model.add(layers.Flatten())\n",
    "model.add(layers.Dense(1024, activation='relu'))\n",
    "model.add(layers.Dropout(0.5))\n",
    "model.add(layers.Dense(num_classes, activation='sigmoid'))\n",
    "model.summary()"
   ]
  },
  {
   "cell_type": "code",
   "execution_count": 5,
   "metadata": {},
   "outputs": [
    {
     "name": "stdout",
     "output_type": "stream",
     "text": [
      "Epoch 1/10\n",
      "75/75 [==============================] - 1290s 17s/step - loss: 0.2656 - accuracy: 0.2038 - val_loss: 0.2323 - val_accuracy: 0.2583\n",
      "Epoch 2/10\n",
      "75/75 [==============================] - 1325s 18s/step - loss: 0.2417 - accuracy: 0.2128 - val_loss: 0.2301 - val_accuracy: 0.2701\n",
      "Epoch 3/10\n",
      "75/75 [==============================] - 1309s 18s/step - loss: 0.2359 - accuracy: 0.2250 - val_loss: 0.2280 - val_accuracy: 0.2192\n",
      "Epoch 4/10\n",
      "75/75 [==============================] - 1315s 18s/step - loss: 0.2321 - accuracy: 0.2289 - val_loss: 0.2268 - val_accuracy: 0.2379\n",
      "Epoch 5/10\n",
      "75/75 [==============================] - 1308s 17s/step - loss: 0.2300 - accuracy: 0.2350 - val_loss: 0.2290 - val_accuracy: 0.2128\n",
      "Epoch 6/10\n",
      "75/75 [==============================] - 1326s 18s/step - loss: 0.2276 - accuracy: 0.2419 - val_loss: 0.2278 - val_accuracy: 0.2288\n",
      "Epoch 7/10\n",
      "75/75 [==============================] - 1328s 18s/step - loss: 0.2243 - accuracy: 0.2547 - val_loss: 0.2276 - val_accuracy: 0.2363\n",
      "Epoch 8/10\n",
      "75/75 [==============================] - 1345s 18s/step - loss: 0.2225 - accuracy: 0.2484 - val_loss: 0.2303 - val_accuracy: 0.2144\n",
      "Epoch 9/10\n",
      "75/75 [==============================] - 1318s 18s/step - loss: 0.2201 - accuracy: 0.2564 - val_loss: 0.2323 - val_accuracy: 0.2181\n",
      "Epoch 10/10\n",
      "75/75 [==============================] - 1307s 17s/step - loss: 0.2180 - accuracy: 0.2612 - val_loss: 0.2306 - val_accuracy: 0.2288\n"
     ]
    }
   ],
   "source": [
    "model.compile(optimizer=optimizers.RMSprop(lr=1e-4), loss='binary_crossentropy', metrics=['accuracy'])\n",
    "aug = ImageDataGenerator(rotation_range=20, zoom_range=0.15,width_shift_range=0.2, height_shift_range=0.2, \n",
    "                         shear_range=0.15,horizontal_flip=True, fill_mode=\"nearest\")\n",
    "\n",
    "EPOCHS=10\n",
    "BS = 64\n",
    "history = model.fit_generator(aug.flow(X_train, Y_train, batch_size=BS),validation_data=(X_val, Y_val), \n",
    "                    steps_per_epoch=len(X_train) // BS, epochs=EPOCHS)\n",
    "model.save('Models/Model_4d.h5')"
   ]
  },
  {
   "cell_type": "code",
   "execution_count": null,
   "metadata": {},
   "outputs": [],
   "source": []
  }
 ],
 "metadata": {
  "kernelspec": {
   "display_name": "Python 3 (ipykernel)",
   "language": "python",
   "name": "python3"
  },
  "language_info": {
   "codemirror_mode": {
    "name": "ipython",
    "version": 3
   },
   "file_extension": ".py",
   "mimetype": "text/x-python",
   "name": "python",
   "nbconvert_exporter": "python",
   "pygments_lexer": "ipython3",
   "version": "3.9.12"
  }
 },
 "nbformat": 4,
 "nbformat_minor": 4
}
