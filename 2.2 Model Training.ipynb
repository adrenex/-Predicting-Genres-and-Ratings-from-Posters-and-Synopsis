{
 "cells": [
  {
   "cell_type": "code",
   "execution_count": 4,
   "metadata": {},
   "outputs": [],
   "source": [
    "# Import the required modules\n",
    "import keras\n",
    "from keras.models import Sequential\n",
    "from keras.layers import Dense, Dropout, Flatten\n",
    "from keras.layers import Conv2D, MaxPooling2D\n",
    "import keras.utils as image\n",
    "from keras.callbacks import EarlyStopping\n",
    "from keras.callbacks import ModelCheckpoint\n",
    "from keras.preprocessing.image import ImageDataGenerator\n",
    "import numpy as np \n",
    "from tqdm import tqdm\n",
    "import cv2\n",
    "from keras import models\n",
    "from keras import layers\n",
    "from keras import optimizers\n",
    "from PIL import Image\n",
    "from keras.applications import VGG16\n",
    "import warnings\n",
    "warnings.filterwarnings('ignore')"
   ]
  },
  {
   "cell_type": "code",
   "execution_count": 5,
   "metadata": {},
   "outputs": [],
   "source": [
    "# Function to load the image, and convert into np arrays, to further train the model\n",
    "def arrange_data(df):\n",
    "    \n",
    "    image_data = []\n",
    "    img_paths = np.asarray(df.iloc[:, 0]) #First column is the image paths\n",
    "    \n",
    "    for i in tqdm(range(len(img_paths))):       \n",
    "        img = image.load_img(img_paths[i],target_size=(200,150,3))\n",
    "        img = image.img_to_array(img)\n",
    "        img = img/255\n",
    "        image_data.append(img)\n",
    "        \n",
    "    X = np.array(image_data)\n",
    "    Y = np.array(df.iloc[:,1:29])\n",
    "    \n",
    "    # Display the size\n",
    "    print(\"Shape of images:\", X.shape)\n",
    "    print(\"Shape of labels:\", Y.shape)\n",
    "    \n",
    "    return X, Y"
   ]
  },
  {
   "cell_type": "code",
   "execution_count": 6,
   "metadata": {},
   "outputs": [
    {
     "name": "stdout",
     "output_type": "stream",
     "text": [
      "Processing train..\n"
     ]
    },
    {
     "name": "stderr",
     "output_type": "stream",
     "text": [
      "100%|█████████████████████████████████████████████████████████████████████████████| 4832/4832 [00:35<00:00, 136.84it/s]\n"
     ]
    },
    {
     "name": "stdout",
     "output_type": "stream",
     "text": [
      "Shape of images: (4832, 200, 150, 3)\n",
      "Shape of labels: (4832, 28)\n",
      "Processing valid..\n"
     ]
    },
    {
     "name": "stderr",
     "output_type": "stream",
     "text": [
      "100%|█████████████████████████████████████████████████████████████████████████████| 1863/1863 [00:13<00:00, 142.88it/s]\n"
     ]
    },
    {
     "name": "stdout",
     "output_type": "stream",
     "text": [
      "Shape of images: (1863, 200, 150, 3)\n",
      "Shape of labels: (1863, 28)\n"
     ]
    }
   ],
   "source": [
    "#Read and print and call the fucntion\n",
    "print(\"Processing train..\")\n",
    "train_df = pd.read_csv(\"Data/Train.csv\", delimiter=\" \")\n",
    "X_train, Y_train = arrange_data (train_df)\n",
    "\n",
    "print(\"Processing valid..\")\n",
    "val_df = pd.read_csv(\"Data/Valid.csv\", delimiter=\" \")\n",
    "X_val, Y_val = arrange_data (val_df)"
   ]
  },
  {
   "cell_type": "code",
   "execution_count": 7,
   "metadata": {},
   "outputs": [
    {
     "name": "stdout",
     "output_type": "stream",
     "text": [
      "Model: \"sequential\"\n",
      "_________________________________________________________________\n",
      " Layer (type)                Output Shape              Param #   \n",
      "=================================================================\n",
      " conv2d (Conv2D)             (None, 196, 146, 16)      1216      \n",
      "                                                                 \n",
      " max_pooling2d (MaxPooling2D  (None, 98, 73, 16)       0         \n",
      " )                                                               \n",
      "                                                                 \n",
      " dropout (Dropout)           (None, 98, 73, 16)        0         \n",
      "                                                                 \n",
      " conv2d_1 (Conv2D)           (None, 94, 69, 32)        12832     \n",
      "                                                                 \n",
      " max_pooling2d_1 (MaxPooling  (None, 47, 34, 32)       0         \n",
      " 2D)                                                             \n",
      "                                                                 \n",
      " dropout_1 (Dropout)         (None, 47, 34, 32)        0         \n",
      "                                                                 \n",
      " conv2d_2 (Conv2D)           (None, 43, 30, 64)        51264     \n",
      "                                                                 \n",
      " max_pooling2d_2 (MaxPooling  (None, 21, 15, 64)       0         \n",
      " 2D)                                                             \n",
      "                                                                 \n",
      " dropout_2 (Dropout)         (None, 21, 15, 64)        0         \n",
      "                                                                 \n",
      " conv2d_3 (Conv2D)           (None, 17, 11, 64)        102464    \n",
      "                                                                 \n",
      " max_pooling2d_3 (MaxPooling  (None, 8, 5, 64)         0         \n",
      " 2D)                                                             \n",
      "                                                                 \n",
      " dropout_3 (Dropout)         (None, 8, 5, 64)          0         \n",
      "                                                                 \n",
      " flatten (Flatten)           (None, 2560)              0         \n",
      "                                                                 \n",
      " dense (Dense)               (None, 128)               327808    \n",
      "                                                                 \n",
      " dropout_4 (Dropout)         (None, 128)               0         \n",
      "                                                                 \n",
      " dense_1 (Dense)             (None, 64)                8256      \n",
      "                                                                 \n",
      " dropout_5 (Dropout)         (None, 64)                0         \n",
      "                                                                 \n",
      " dense_2 (Dense)             (None, 28)                1820      \n",
      "                                                                 \n",
      "=================================================================\n",
      "Total params: 505,660\n",
      "Trainable params: 505,660\n",
      "Non-trainable params: 0\n",
      "_________________________________________________________________\n"
     ]
    }
   ],
   "source": [
    "#Number of classes\n",
    "num_classes = 28  \n",
    "\n",
    "#Model Declaration\n",
    "model = Sequential()\n",
    "model.add(Conv2D(filters=16, kernel_size=(5, 5), activation=\"relu\", input_shape=(200,150,3)))\n",
    "model.add(MaxPooling2D(pool_size=(2, 2)))\n",
    "model.add(Dropout(0.25))\n",
    "model.add(Conv2D(filters=32, kernel_size=(5, 5), activation='relu'))\n",
    "model.add(MaxPooling2D(pool_size=(2, 2)))\n",
    "model.add(Dropout(0.25))\n",
    "model.add(Conv2D(filters=64, kernel_size=(5, 5), activation=\"relu\"))\n",
    "model.add(MaxPooling2D(pool_size=(2, 2)))\n",
    "model.add(Dropout(0.25))\n",
    "model.add(Conv2D(filters=64, kernel_size=(5, 5), activation='relu'))\n",
    "model.add(MaxPooling2D(pool_size=(2, 2)))\n",
    "model.add(Dropout(0.25))\n",
    "model.add(Flatten())\n",
    "model.add(Dense(128, activation='relu'))\n",
    "model.add(Dropout(0.5))\n",
    "model.add(Dense(64, activation='relu'))\n",
    "model.add(Dropout(0.5))\n",
    "model.add(Dense(num_classes, activation='sigmoid'))\n",
    "model.summary()"
   ]
  },
  {
   "cell_type": "code",
   "execution_count": 8,
   "metadata": {},
   "outputs": [
    {
     "name": "stdout",
     "output_type": "stream",
     "text": [
      "Epoch 1/10\n",
      "76/76 [==============================] - 127s 2s/step - loss: 0.4181 - accuracy: 0.1157 - val_loss: 0.2643 - val_accuracy: 0.2088\n",
      "Epoch 2/10\n",
      "76/76 [==============================] - 121s 2s/step - loss: 0.2750 - accuracy: 0.1972 - val_loss: 0.2357 - val_accuracy: 0.2088\n",
      "Epoch 3/10\n",
      "76/76 [==============================] - 134s 2s/step - loss: 0.2584 - accuracy: 0.2086 - val_loss: 0.2377 - val_accuracy: 0.2088\n",
      "Epoch 4/10\n",
      "76/76 [==============================] - 140s 2s/step - loss: 0.2496 - accuracy: 0.2053 - val_loss: 0.2339 - val_accuracy: 0.2088\n",
      "Epoch 5/10\n",
      "76/76 [==============================] - 143s 2s/step - loss: 0.2445 - accuracy: 0.2072 - val_loss: 0.2340 - val_accuracy: 0.2088\n",
      "Epoch 6/10\n",
      "76/76 [==============================] - 154s 2s/step - loss: 0.2422 - accuracy: 0.2053 - val_loss: 0.2329 - val_accuracy: 0.2088\n",
      "Epoch 7/10\n",
      "76/76 [==============================] - 147s 2s/step - loss: 0.2405 - accuracy: 0.2049 - val_loss: 0.2322 - val_accuracy: 0.2088\n",
      "Epoch 8/10\n",
      "76/76 [==============================] - 144s 2s/step - loss: 0.2392 - accuracy: 0.2053 - val_loss: 0.2322 - val_accuracy: 0.2088\n",
      "Epoch 9/10\n",
      "76/76 [==============================] - 148s 2s/step - loss: 0.2375 - accuracy: 0.2051 - val_loss: 0.2322 - val_accuracy: 0.2088\n",
      "Epoch 10/10\n",
      "76/76 [==============================] - 148s 2s/step - loss: 0.2369 - accuracy: 0.2057 - val_loss: 0.2321 - val_accuracy: 0.2088\n"
     ]
    }
   ],
   "source": [
    "#Model Training and Saving\n",
    "model.compile(optimizer='adam', loss='binary_crossentropy', metrics=['accuracy'])\n",
    "history = model.fit(X_train, Y_train, epochs=10, validation_data=(X_val, Y_val), batch_size=64)\n",
    "model.save('Models/Model_6c.h5')"
   ]
  },
  {
   "cell_type": "code",
   "execution_count": 9,
   "metadata": {},
   "outputs": [
    {
     "name": "stdout",
     "output_type": "stream",
     "text": [
      "Model: \"sequential_1\"\n",
      "_________________________________________________________________\n",
      " Layer (type)                Output Shape              Param #   \n",
      "=================================================================\n",
      " vgg16 (Functional)          (None, 6, 4, 512)         14714688  \n",
      "                                                                 \n",
      " flatten_1 (Flatten)         (None, 12288)             0         \n",
      "                                                                 \n",
      " dense_3 (Dense)             (None, 1024)              12583936  \n",
      "                                                                 \n",
      " dropout_6 (Dropout)         (None, 1024)              0         \n",
      "                                                                 \n",
      " dense_4 (Dense)             (None, 28)                28700     \n",
      "                                                                 \n",
      "=================================================================\n",
      "Total params: 27,327,324\n",
      "Trainable params: 19,692,060\n",
      "Non-trainable params: 7,635,264\n",
      "_________________________________________________________________\n"
     ]
    }
   ],
   "source": [
    "# Number of Genres\n",
    "num_classes = 28\n",
    "\n",
    "#Model Declaration\n",
    "vgg_conv = VGG16(weights='imagenet', include_top=False, input_shape=(200,150, 3))\n",
    "for layer in vgg_conv.layers[:-4]:\n",
    "    layer.trainable = False\n",
    "    \n",
    "model = models.Sequential()\n",
    "model.add(vgg_conv)\n",
    "model.add(layers.Flatten())\n",
    "model.add(layers.Dense(1024, activation='relu'))\n",
    "model.add(layers.Dropout(0.5))\n",
    "model.add(layers.Dense(num_classes, activation='sigmoid'))\n",
    "model.summary()"
   ]
  },
  {
   "cell_type": "code",
   "execution_count": 10,
   "metadata": {},
   "outputs": [
    {
     "name": "stdout",
     "output_type": "stream",
     "text": [
      "Epoch 1/10\n",
      "75/75 [==============================] - 1495s 20s/step - loss: 0.2703 - accuracy: 0.1932 - val_loss: 0.2398 - val_accuracy: 0.2088\n",
      "Epoch 2/10\n",
      "75/75 [==============================] - 1440s 19s/step - loss: 0.2430 - accuracy: 0.2043 - val_loss: 0.2364 - val_accuracy: 0.2088\n",
      "Epoch 3/10\n",
      "75/75 [==============================] - 1555s 21s/step - loss: 0.2393 - accuracy: 0.2108 - val_loss: 0.2335 - val_accuracy: 0.2088\n",
      "Epoch 4/10\n",
      "75/75 [==============================] - 1486s 20s/step - loss: 0.2353 - accuracy: 0.2175 - val_loss: 0.2332 - val_accuracy: 0.2088\n",
      "Epoch 5/10\n",
      "75/75 [==============================] - 1424s 19s/step - loss: 0.2328 - accuracy: 0.2217 - val_loss: 0.2387 - val_accuracy: 0.2442\n",
      "Epoch 6/10\n",
      "75/75 [==============================] - 1465s 20s/step - loss: 0.2304 - accuracy: 0.2181 - val_loss: 0.2335 - val_accuracy: 0.2083\n",
      "Epoch 7/10\n",
      "75/75 [==============================] - 1473s 20s/step - loss: 0.2287 - accuracy: 0.2215 - val_loss: 0.2373 - val_accuracy: 0.2142\n",
      "Epoch 8/10\n",
      "75/75 [==============================] - 1841s 25s/step - loss: 0.2271 - accuracy: 0.2259 - val_loss: 0.2346 - val_accuracy: 0.2115\n",
      "Epoch 9/10\n",
      "75/75 [==============================] - 1638s 22s/step - loss: 0.2244 - accuracy: 0.2324 - val_loss: 0.2359 - val_accuracy: 0.2254\n",
      "Epoch 10/10\n",
      "75/75 [==============================] - 995s 13s/step - loss: 0.2223 - accuracy: 0.2439 - val_loss: 0.2353 - val_accuracy: 0.2249\n"
     ]
    }
   ],
   "source": [
    "#Model Training and Saving\n",
    "model.compile(optimizer=optimizers.RMSprop(lr=1e-4), loss='binary_crossentropy', metrics=['accuracy'])\n",
    "aug = ImageDataGenerator(rotation_range=20, zoom_range=0.15,width_shift_range=0.2, height_shift_range=0.2, \n",
    "                         shear_range=0.15,horizontal_flip=True, fill_mode=\"nearest\")\n",
    "\n",
    "EPOCHS=10\n",
    "BS = 64\n",
    "history = model.fit_generator(aug.flow(X_train, Y_train, batch_size=BS),validation_data=(X_val, Y_val), \n",
    "                    steps_per_epoch=len(X_train) // BS, epochs=EPOCHS)\n",
    "model.save('Models/Model_4d.h5')"
   ]
  }
 ],
 "metadata": {
  "kernelspec": {
   "display_name": "Python 3 (ipykernel)",
   "language": "python",
   "name": "python3"
  },
  "language_info": {
   "codemirror_mode": {
    "name": "ipython",
    "version": 3
   },
   "file_extension": ".py",
   "mimetype": "text/x-python",
   "name": "python",
   "nbconvert_exporter": "python",
   "pygments_lexer": "ipython3",
   "version": "3.9.12"
  }
 },
 "nbformat": 4,
 "nbformat_minor": 4
}
